{
  "nbformat": 4,
  "nbformat_minor": 0,
  "metadata": {
    "colab": {
      "provenance": [],
      "authorship_tag": "ABX9TyMGvbmo6dnibu9d5GdXAl5P",
      "include_colab_link": true
    },
    "kernelspec": {
      "name": "python3",
      "display_name": "Python 3"
    },
    "language_info": {
      "name": "python"
    }
  },
  "cells": [
    {
      "cell_type": "markdown",
      "metadata": {
        "id": "view-in-github",
        "colab_type": "text"
      },
      "source": [
        "<a href=\"https://colab.research.google.com/github/nikhil-xyz/Agentic-AI/blob/main/Agentic_Langgraph.ipynb\" target=\"_parent\"><img src=\"https://colab.research.google.com/assets/colab-badge.svg\" alt=\"Open In Colab\"/></a>"
      ]
    },
    {
      "cell_type": "code",
      "source": [
        "!pip install langchain_community"
      ],
      "metadata": {
        "colab": {
          "base_uri": "https://localhost:8080/"
        },
        "id": "aZxXJpqDyI2F",
        "outputId": "767efb95-2164-4616-ff85-af280b6667bb"
      },
      "execution_count": 80,
      "outputs": [
        {
          "output_type": "stream",
          "name": "stdout",
          "text": [
            "Requirement already satisfied: langchain_community in /usr/local/lib/python3.11/dist-packages (0.3.22)\n",
            "Requirement already satisfied: langchain-core<1.0.0,>=0.3.55 in /usr/local/lib/python3.11/dist-packages (from langchain_community) (0.3.55)\n",
            "Requirement already satisfied: langchain<1.0.0,>=0.3.24 in /usr/local/lib/python3.11/dist-packages (from langchain_community) (0.3.24)\n",
            "Requirement already satisfied: SQLAlchemy<3,>=1.4 in /usr/local/lib/python3.11/dist-packages (from langchain_community) (2.0.40)\n",
            "Requirement already satisfied: requests<3,>=2 in /usr/local/lib/python3.11/dist-packages (from langchain_community) (2.32.3)\n",
            "Requirement already satisfied: PyYAML>=5.3 in /usr/local/lib/python3.11/dist-packages (from langchain_community) (6.0.2)\n",
            "Requirement already satisfied: aiohttp<4.0.0,>=3.8.3 in /usr/local/lib/python3.11/dist-packages (from langchain_community) (3.11.15)\n",
            "Requirement already satisfied: tenacity!=8.4.0,<10,>=8.1.0 in /usr/local/lib/python3.11/dist-packages (from langchain_community) (9.1.2)\n",
            "Requirement already satisfied: dataclasses-json<0.7,>=0.5.7 in /usr/local/lib/python3.11/dist-packages (from langchain_community) (0.6.7)\n",
            "Requirement already satisfied: pydantic-settings<3.0.0,>=2.4.0 in /usr/local/lib/python3.11/dist-packages (from langchain_community) (2.9.1)\n",
            "Requirement already satisfied: langsmith<0.4,>=0.1.125 in /usr/local/lib/python3.11/dist-packages (from langchain_community) (0.3.33)\n",
            "Requirement already satisfied: httpx-sse<1.0.0,>=0.4.0 in /usr/local/lib/python3.11/dist-packages (from langchain_community) (0.4.0)\n",
            "Requirement already satisfied: numpy>=1.26.2 in /usr/local/lib/python3.11/dist-packages (from langchain_community) (2.0.2)\n",
            "Requirement already satisfied: aiohappyeyeballs>=2.3.0 in /usr/local/lib/python3.11/dist-packages (from aiohttp<4.0.0,>=3.8.3->langchain_community) (2.6.1)\n",
            "Requirement already satisfied: aiosignal>=1.1.2 in /usr/local/lib/python3.11/dist-packages (from aiohttp<4.0.0,>=3.8.3->langchain_community) (1.3.2)\n",
            "Requirement already satisfied: attrs>=17.3.0 in /usr/local/lib/python3.11/dist-packages (from aiohttp<4.0.0,>=3.8.3->langchain_community) (25.3.0)\n",
            "Requirement already satisfied: frozenlist>=1.1.1 in /usr/local/lib/python3.11/dist-packages (from aiohttp<4.0.0,>=3.8.3->langchain_community) (1.6.0)\n",
            "Requirement already satisfied: multidict<7.0,>=4.5 in /usr/local/lib/python3.11/dist-packages (from aiohttp<4.0.0,>=3.8.3->langchain_community) (6.4.3)\n",
            "Requirement already satisfied: propcache>=0.2.0 in /usr/local/lib/python3.11/dist-packages (from aiohttp<4.0.0,>=3.8.3->langchain_community) (0.3.1)\n",
            "Requirement already satisfied: yarl<2.0,>=1.17.0 in /usr/local/lib/python3.11/dist-packages (from aiohttp<4.0.0,>=3.8.3->langchain_community) (1.20.0)\n",
            "Requirement already satisfied: marshmallow<4.0.0,>=3.18.0 in /usr/local/lib/python3.11/dist-packages (from dataclasses-json<0.7,>=0.5.7->langchain_community) (3.26.1)\n",
            "Requirement already satisfied: typing-inspect<1,>=0.4.0 in /usr/local/lib/python3.11/dist-packages (from dataclasses-json<0.7,>=0.5.7->langchain_community) (0.9.0)\n",
            "Requirement already satisfied: langchain-text-splitters<1.0.0,>=0.3.8 in /usr/local/lib/python3.11/dist-packages (from langchain<1.0.0,>=0.3.24->langchain_community) (0.3.8)\n",
            "Requirement already satisfied: pydantic<3.0.0,>=2.7.4 in /usr/local/lib/python3.11/dist-packages (from langchain<1.0.0,>=0.3.24->langchain_community) (2.11.3)\n",
            "Requirement already satisfied: jsonpatch<2.0,>=1.33 in /usr/local/lib/python3.11/dist-packages (from langchain-core<1.0.0,>=0.3.55->langchain_community) (1.33)\n",
            "Requirement already satisfied: packaging<25,>=23.2 in /usr/local/lib/python3.11/dist-packages (from langchain-core<1.0.0,>=0.3.55->langchain_community) (24.2)\n",
            "Requirement already satisfied: typing-extensions>=4.7 in /usr/local/lib/python3.11/dist-packages (from langchain-core<1.0.0,>=0.3.55->langchain_community) (4.13.2)\n",
            "Requirement already satisfied: httpx<1,>=0.23.0 in /usr/local/lib/python3.11/dist-packages (from langsmith<0.4,>=0.1.125->langchain_community) (0.28.1)\n",
            "Requirement already satisfied: orjson<4.0.0,>=3.9.14 in /usr/local/lib/python3.11/dist-packages (from langsmith<0.4,>=0.1.125->langchain_community) (3.10.16)\n",
            "Requirement already satisfied: requests-toolbelt<2.0.0,>=1.0.0 in /usr/local/lib/python3.11/dist-packages (from langsmith<0.4,>=0.1.125->langchain_community) (1.0.0)\n",
            "Requirement already satisfied: zstandard<0.24.0,>=0.23.0 in /usr/local/lib/python3.11/dist-packages (from langsmith<0.4,>=0.1.125->langchain_community) (0.23.0)\n",
            "Requirement already satisfied: python-dotenv>=0.21.0 in /usr/local/lib/python3.11/dist-packages (from pydantic-settings<3.0.0,>=2.4.0->langchain_community) (1.1.0)\n",
            "Requirement already satisfied: typing-inspection>=0.4.0 in /usr/local/lib/python3.11/dist-packages (from pydantic-settings<3.0.0,>=2.4.0->langchain_community) (0.4.0)\n",
            "Requirement already satisfied: charset-normalizer<4,>=2 in /usr/local/lib/python3.11/dist-packages (from requests<3,>=2->langchain_community) (3.4.1)\n",
            "Requirement already satisfied: idna<4,>=2.5 in /usr/local/lib/python3.11/dist-packages (from requests<3,>=2->langchain_community) (3.10)\n",
            "Requirement already satisfied: urllib3<3,>=1.21.1 in /usr/local/lib/python3.11/dist-packages (from requests<3,>=2->langchain_community) (2.3.0)\n",
            "Requirement already satisfied: certifi>=2017.4.17 in /usr/local/lib/python3.11/dist-packages (from requests<3,>=2->langchain_community) (2025.1.31)\n",
            "Requirement already satisfied: greenlet>=1 in /usr/local/lib/python3.11/dist-packages (from SQLAlchemy<3,>=1.4->langchain_community) (3.2.1)\n",
            "Requirement already satisfied: anyio in /usr/local/lib/python3.11/dist-packages (from httpx<1,>=0.23.0->langsmith<0.4,>=0.1.125->langchain_community) (4.9.0)\n",
            "Requirement already satisfied: httpcore==1.* in /usr/local/lib/python3.11/dist-packages (from httpx<1,>=0.23.0->langsmith<0.4,>=0.1.125->langchain_community) (1.0.8)\n",
            "Requirement already satisfied: h11<0.15,>=0.13 in /usr/local/lib/python3.11/dist-packages (from httpcore==1.*->httpx<1,>=0.23.0->langsmith<0.4,>=0.1.125->langchain_community) (0.14.0)\n",
            "Requirement already satisfied: jsonpointer>=1.9 in /usr/local/lib/python3.11/dist-packages (from jsonpatch<2.0,>=1.33->langchain-core<1.0.0,>=0.3.55->langchain_community) (3.0.0)\n",
            "Requirement already satisfied: annotated-types>=0.6.0 in /usr/local/lib/python3.11/dist-packages (from pydantic<3.0.0,>=2.7.4->langchain<1.0.0,>=0.3.24->langchain_community) (0.7.0)\n",
            "Requirement already satisfied: pydantic-core==2.33.1 in /usr/local/lib/python3.11/dist-packages (from pydantic<3.0.0,>=2.7.4->langchain<1.0.0,>=0.3.24->langchain_community) (2.33.1)\n",
            "Requirement already satisfied: mypy-extensions>=0.3.0 in /usr/local/lib/python3.11/dist-packages (from typing-inspect<1,>=0.4.0->dataclasses-json<0.7,>=0.5.7->langchain_community) (1.1.0)\n",
            "Requirement already satisfied: sniffio>=1.1 in /usr/local/lib/python3.11/dist-packages (from anyio->httpx<1,>=0.23.0->langsmith<0.4,>=0.1.125->langchain_community) (1.3.1)\n"
          ]
        }
      ]
    },
    {
      "cell_type": "code",
      "source": [
        "!pip install arxiv"
      ],
      "metadata": {
        "colab": {
          "base_uri": "https://localhost:8080/"
        },
        "id": "d1dFpflm0TBX",
        "outputId": "5b57ceb6-d9ed-4f84-e61e-0af567030302"
      },
      "execution_count": 81,
      "outputs": [
        {
          "output_type": "stream",
          "name": "stdout",
          "text": [
            "Requirement already satisfied: arxiv in /usr/local/lib/python3.11/dist-packages (2.2.0)\n",
            "Requirement already satisfied: feedparser~=6.0.10 in /usr/local/lib/python3.11/dist-packages (from arxiv) (6.0.11)\n",
            "Requirement already satisfied: requests~=2.32.0 in /usr/local/lib/python3.11/dist-packages (from arxiv) (2.32.3)\n",
            "Requirement already satisfied: sgmllib3k in /usr/local/lib/python3.11/dist-packages (from feedparser~=6.0.10->arxiv) (1.0.0)\n",
            "Requirement already satisfied: charset-normalizer<4,>=2 in /usr/local/lib/python3.11/dist-packages (from requests~=2.32.0->arxiv) (3.4.1)\n",
            "Requirement already satisfied: idna<4,>=2.5 in /usr/local/lib/python3.11/dist-packages (from requests~=2.32.0->arxiv) (3.10)\n",
            "Requirement already satisfied: urllib3<3,>=1.21.1 in /usr/local/lib/python3.11/dist-packages (from requests~=2.32.0->arxiv) (2.3.0)\n",
            "Requirement already satisfied: certifi>=2017.4.17 in /usr/local/lib/python3.11/dist-packages (from requests~=2.32.0->arxiv) (2025.1.31)\n"
          ]
        }
      ]
    },
    {
      "cell_type": "code",
      "source": [
        "!pip install wikipedia"
      ],
      "metadata": {
        "colab": {
          "base_uri": "https://localhost:8080/"
        },
        "id": "DWHXFclg0XWW",
        "outputId": "111b1011-a7ad-4cf3-e311-72bae7e1ac03"
      },
      "execution_count": 82,
      "outputs": [
        {
          "output_type": "stream",
          "name": "stdout",
          "text": [
            "Requirement already satisfied: wikipedia in /usr/local/lib/python3.11/dist-packages (1.4.0)\n",
            "Requirement already satisfied: beautifulsoup4 in /usr/local/lib/python3.11/dist-packages (from wikipedia) (4.13.4)\n",
            "Requirement already satisfied: requests<3.0.0,>=2.0.0 in /usr/local/lib/python3.11/dist-packages (from wikipedia) (2.32.3)\n",
            "Requirement already satisfied: charset-normalizer<4,>=2 in /usr/local/lib/python3.11/dist-packages (from requests<3.0.0,>=2.0.0->wikipedia) (3.4.1)\n",
            "Requirement already satisfied: idna<4,>=2.5 in /usr/local/lib/python3.11/dist-packages (from requests<3.0.0,>=2.0.0->wikipedia) (3.10)\n",
            "Requirement already satisfied: urllib3<3,>=1.21.1 in /usr/local/lib/python3.11/dist-packages (from requests<3.0.0,>=2.0.0->wikipedia) (2.3.0)\n",
            "Requirement already satisfied: certifi>=2017.4.17 in /usr/local/lib/python3.11/dist-packages (from requests<3.0.0,>=2.0.0->wikipedia) (2025.1.31)\n",
            "Requirement already satisfied: soupsieve>1.2 in /usr/local/lib/python3.11/dist-packages (from beautifulsoup4->wikipedia) (2.7)\n",
            "Requirement already satisfied: typing-extensions>=4.0.0 in /usr/local/lib/python3.11/dist-packages (from beautifulsoup4->wikipedia) (4.13.2)\n"
          ]
        }
      ]
    },
    {
      "cell_type": "code",
      "execution_count": 83,
      "metadata": {
        "id": "EyFpYFlLxOM0"
      },
      "outputs": [],
      "source": [
        "from langchain_community.tools import ArxivQueryRun, WikipediaQueryRun\n",
        "from langchain_community.utilities import ArxivAPIWrapper, WikipediaAPIWrapper"
      ]
    },
    {
      "cell_type": "code",
      "source": [
        "from langchain_community.tools.tavily_search import TavilySearchResults"
      ],
      "metadata": {
        "id": "9wut81VezJjb"
      },
      "execution_count": 84,
      "outputs": []
    },
    {
      "cell_type": "code",
      "source": [
        "import os\n",
        "from dotenv import load_dotenv"
      ],
      "metadata": {
        "id": "7cxNHD-MyWdI"
      },
      "execution_count": 85,
      "outputs": []
    },
    {
      "cell_type": "code",
      "source": [
        "from google.colab import userdata\n",
        "userdata.get('TAVILY_API_KEY')\n",
        "from google.colab import userdata\n",
        "userdata.get('GROQ_API_KEY')"
      ],
      "metadata": {
        "colab": {
          "base_uri": "https://localhost:8080/",
          "height": 36
        },
        "id": "969JiOwMy2av",
        "outputId": "4f0b9498-aed6-4c63-a824-8566ecd9ca5d"
      },
      "execution_count": 86,
      "outputs": [
        {
          "output_type": "execute_result",
          "data": {
            "text/plain": [
              "'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'"
            ],
            "application/vnd.google.colaboratory.intrinsic+json": {
              "type": "string"
            }
          },
          "metadata": {},
          "execution_count": 86
        }
      ]
    },
    {
      "cell_type": "code",
      "source": [
        "tavily = TavilySearchResults(tavily_api_key=userdata.get('TAVILY_API_KEY'), name = 'tavily_search')"
      ],
      "metadata": {
        "id": "mTFYHzBzzBYN"
      },
      "execution_count": 87,
      "outputs": []
    },
    {
      "cell_type": "code",
      "source": [
        "arxiv_api = ArxivAPIWrapper(top_k_results=2, doc_content_chars_max=300)\n",
        "wikipedia_api = WikipediaAPIWrapper(top_k_results=2, doc_content_chars_max=300)\n",
        "\n",
        "arxiv = ArxivQueryRun(api_wrapper=arxiv_api)\n",
        "wikipedia = WikipediaQueryRun(api_wrapper=wikipedia_api)"
      ],
      "metadata": {
        "id": "Kt2JwdD4ztB7"
      },
      "execution_count": 88,
      "outputs": []
    },
    {
      "cell_type": "code",
      "source": [
        "!pip install langchain_groq"
      ],
      "metadata": {
        "colab": {
          "base_uri": "https://localhost:8080/"
        },
        "id": "4G0_JFQy0kIj",
        "outputId": "8ab64700-aac0-4919-dd0c-4bc0a4de8142"
      },
      "execution_count": 89,
      "outputs": [
        {
          "output_type": "stream",
          "name": "stdout",
          "text": [
            "Requirement already satisfied: langchain_groq in /usr/local/lib/python3.11/dist-packages (0.3.2)\n",
            "Requirement already satisfied: langchain-core<1.0.0,>=0.3.49 in /usr/local/lib/python3.11/dist-packages (from langchain_groq) (0.3.55)\n",
            "Requirement already satisfied: groq<1,>=0.4.1 in /usr/local/lib/python3.11/dist-packages (from langchain_groq) (0.23.1)\n",
            "Requirement already satisfied: anyio<5,>=3.5.0 in /usr/local/lib/python3.11/dist-packages (from groq<1,>=0.4.1->langchain_groq) (4.9.0)\n",
            "Requirement already satisfied: distro<2,>=1.7.0 in /usr/local/lib/python3.11/dist-packages (from groq<1,>=0.4.1->langchain_groq) (1.9.0)\n",
            "Requirement already satisfied: httpx<1,>=0.23.0 in /usr/local/lib/python3.11/dist-packages (from groq<1,>=0.4.1->langchain_groq) (0.28.1)\n",
            "Requirement already satisfied: pydantic<3,>=1.9.0 in /usr/local/lib/python3.11/dist-packages (from groq<1,>=0.4.1->langchain_groq) (2.11.3)\n",
            "Requirement already satisfied: sniffio in /usr/local/lib/python3.11/dist-packages (from groq<1,>=0.4.1->langchain_groq) (1.3.1)\n",
            "Requirement already satisfied: typing-extensions<5,>=4.10 in /usr/local/lib/python3.11/dist-packages (from groq<1,>=0.4.1->langchain_groq) (4.13.2)\n",
            "Requirement already satisfied: langsmith<0.4,>=0.1.125 in /usr/local/lib/python3.11/dist-packages (from langchain-core<1.0.0,>=0.3.49->langchain_groq) (0.3.33)\n",
            "Requirement already satisfied: tenacity!=8.4.0,<10.0.0,>=8.1.0 in /usr/local/lib/python3.11/dist-packages (from langchain-core<1.0.0,>=0.3.49->langchain_groq) (9.1.2)\n",
            "Requirement already satisfied: jsonpatch<2.0,>=1.33 in /usr/local/lib/python3.11/dist-packages (from langchain-core<1.0.0,>=0.3.49->langchain_groq) (1.33)\n",
            "Requirement already satisfied: PyYAML>=5.3 in /usr/local/lib/python3.11/dist-packages (from langchain-core<1.0.0,>=0.3.49->langchain_groq) (6.0.2)\n",
            "Requirement already satisfied: packaging<25,>=23.2 in /usr/local/lib/python3.11/dist-packages (from langchain-core<1.0.0,>=0.3.49->langchain_groq) (24.2)\n",
            "Requirement already satisfied: idna>=2.8 in /usr/local/lib/python3.11/dist-packages (from anyio<5,>=3.5.0->groq<1,>=0.4.1->langchain_groq) (3.10)\n",
            "Requirement already satisfied: certifi in /usr/local/lib/python3.11/dist-packages (from httpx<1,>=0.23.0->groq<1,>=0.4.1->langchain_groq) (2025.1.31)\n",
            "Requirement already satisfied: httpcore==1.* in /usr/local/lib/python3.11/dist-packages (from httpx<1,>=0.23.0->groq<1,>=0.4.1->langchain_groq) (1.0.8)\n",
            "Requirement already satisfied: h11<0.15,>=0.13 in /usr/local/lib/python3.11/dist-packages (from httpcore==1.*->httpx<1,>=0.23.0->groq<1,>=0.4.1->langchain_groq) (0.14.0)\n",
            "Requirement already satisfied: jsonpointer>=1.9 in /usr/local/lib/python3.11/dist-packages (from jsonpatch<2.0,>=1.33->langchain-core<1.0.0,>=0.3.49->langchain_groq) (3.0.0)\n",
            "Requirement already satisfied: orjson<4.0.0,>=3.9.14 in /usr/local/lib/python3.11/dist-packages (from langsmith<0.4,>=0.1.125->langchain-core<1.0.0,>=0.3.49->langchain_groq) (3.10.16)\n",
            "Requirement already satisfied: requests<3,>=2 in /usr/local/lib/python3.11/dist-packages (from langsmith<0.4,>=0.1.125->langchain-core<1.0.0,>=0.3.49->langchain_groq) (2.32.3)\n",
            "Requirement already satisfied: requests-toolbelt<2.0.0,>=1.0.0 in /usr/local/lib/python3.11/dist-packages (from langsmith<0.4,>=0.1.125->langchain-core<1.0.0,>=0.3.49->langchain_groq) (1.0.0)\n",
            "Requirement already satisfied: zstandard<0.24.0,>=0.23.0 in /usr/local/lib/python3.11/dist-packages (from langsmith<0.4,>=0.1.125->langchain-core<1.0.0,>=0.3.49->langchain_groq) (0.23.0)\n",
            "Requirement already satisfied: annotated-types>=0.6.0 in /usr/local/lib/python3.11/dist-packages (from pydantic<3,>=1.9.0->groq<1,>=0.4.1->langchain_groq) (0.7.0)\n",
            "Requirement already satisfied: pydantic-core==2.33.1 in /usr/local/lib/python3.11/dist-packages (from pydantic<3,>=1.9.0->groq<1,>=0.4.1->langchain_groq) (2.33.1)\n",
            "Requirement already satisfied: typing-inspection>=0.4.0 in /usr/local/lib/python3.11/dist-packages (from pydantic<3,>=1.9.0->groq<1,>=0.4.1->langchain_groq) (0.4.0)\n",
            "Requirement already satisfied: charset-normalizer<4,>=2 in /usr/local/lib/python3.11/dist-packages (from requests<3,>=2->langsmith<0.4,>=0.1.125->langchain-core<1.0.0,>=0.3.49->langchain_groq) (3.4.1)\n",
            "Requirement already satisfied: urllib3<3,>=1.21.1 in /usr/local/lib/python3.11/dist-packages (from requests<3,>=2->langsmith<0.4,>=0.1.125->langchain-core<1.0.0,>=0.3.49->langchain_groq) (2.3.0)\n"
          ]
        }
      ]
    },
    {
      "cell_type": "code",
      "source": [
        "from langchain_groq import ChatGroq\n",
        "llm = ChatGroq(groq_api_key=userdata.get('GROQ_API_KEY'), model='qwen-qwq-32b')"
      ],
      "metadata": {
        "id": "0Qrwk-P60Ns6"
      },
      "execution_count": 90,
      "outputs": []
    },
    {
      "cell_type": "code",
      "source": [
        "llm.invoke(\"who is the current captain of the Indian cricket team?\").content"
      ],
      "metadata": {
        "colab": {
          "base_uri": "https://localhost:8080/",
          "height": 123
        },
        "id": "UmF_wT_R1Ecd",
        "outputId": "1c1e05e4-ad56-4153-c095-8d6e0ac4f30f"
      },
      "execution_count": 91,
      "outputs": [
        {
          "output_type": "execute_result",
          "data": {
            "text/plain": [
              "\"\\n<think>\\nOkay, so I need to find out who the current captain of the Indian cricket team is. Let me start by recalling what I know. I remember that in cricket, the captain is the leader of the team both on and off the field. The Indian cricket team has had several famous captains over the years, like Sourav Ganguly, Rahul Dravid, and Mahendra Singh Dhoni. More recently, Virat Kohli was the captain for a long time.\\n\\nWait, was Virat Kohli still the captain? I think he stepped down a while back. When was that? Maybe around early 2022? Let me check my memory. There was a transition period after Kohli. Then there was a captaincy change. I believe Rohit Sharma took over as the captain after Kohli. But am I mixing up the dates? Let me think.\\n\\nI recall that in 2022, there were some statements from the BCCI (Board of Control for Cricket in India) about changes in leadership. Yes, Rohit Sharma was appointed as the ODI (One Day International) captain first, and then maybe the Test captain as well? Or was he appointed as the captain for all formats? Wait, wasn't there a split where Rohit was the ODI captain and someone else was the Test captain? Or did they combine it later?\\n\\nAlternatively, maybe it's better to confirm the current captain as of the latest information. Let me think of recent cricket matches. The T20 World Cup in 2023 was held in Australia, and India participated. Who was leading them then? I think Rohit Sharma was the captain during that tournament, but India didn't perform very well. So that would suggest he was still in charge up to that point.\\n\\nWait, but I also heard that there was a recent change where Rishabh Pant might have taken over. Or was that a rumor? Let me see. Rishabh Pant has been a wicketkeeper-batsman and has been part of the leadership group. But I'm not sure if he's the captain. Then there's someone like Shubman Gill or another player? No, probably not. Maybe I was confusing with another team's captain.\\n\\nAlternatively, maybe KL Rahul? But I don't think so. Let me piece this together. After Kohli's tenure, the BCCI appointed Rohit Sharma as the captain in 2022. Then, in 2023, there was talk about rotating captains between formats. Wait, the Indian team has had instances where different captains lead in different formats. For example, in Tests, maybe Rohit is the captain, and in ODIs as well, but I'm a bit confused here.\\n\\nAlternatively, perhaps there was a change in 2023 where Rishabh Pant became the captain for Tests. Let me think: when Virat Kohli stepped down as Test captain, Rohit took over, but then later, there was a change where Pant became the Test captain? Or was that part of a rotation?\\n\\nAlternatively, maybe the current captain is still Rohit Sharma. Let me check my memory. In late 2023, the Indian team's captain for the Ashes series was Rohit Sharma. Wait, no, actually, during the 2023 Ashes, the Test series, the Indian captain was Rishabh Pant. So maybe there was a change where Pant is now the Test captain, while Rohit leads in ODIs?\\n\\nHmm, this is a bit confusing. Let me try to recall. When Virat Kohli left the captaincy, the BCCI appointed Rohit Sharma as the captain across all formats. Then, in 2023, there was a change where Rohit stepped down as T20I captain, and Rishabh Pant started leading the T20 team. Wait, no, perhaps it's more complicated. Let me break it down by format:\\n\\n- Test captain: After Kohli, Rohit took over. Then in 2023, Rishabh Pant became the Test captain?\\n\\n- ODI captain: Still Rohit?\\n\\n- T20I captain: Also Rohit initially, but later Pant took over the T20I role.\\n\\nWait, I remember that in late 2022 or early 2023, Rohit was leading all formats, but then there was a split. Let me think about specific matches. The recent World Test Championship Final in 2023, where India played against Australia, the Indian captain was Rishabh Pant. So that suggests that Pant is the Test captain.\\n\\nMeanwhile, in the T20 World Cup 2023, the captain was also Pant? Or was it Rohit? Wait, India didn't perform well in the 2023 World Cup, and the captain there was Rohit Sharma. But in the Test series, like against England, Pant was leading. Hmm, perhaps the captaincy was divided between formats.\\n\\nAlternatively, maybe they've appointed Pant as the Test captain and Rohit as the ODI captain, and someone else for T20Is? Or maybe there's a rotating system. Alternatively, perhaps Rishabh Pant is now the captain across all formats?\\n\\nWait, I need to get this straight. Let me try to remember key events. When Virat Kohli announced his retirement from Test cricket in August 2023, that's when the Test captaincy was up for grabs. So after that, Pant was appointed as the Test captain. Meanwhile, Rohit Sharma continued as the captain in ODIs and T20Is until maybe his performance in the World Cup led to a change.\\n\\nWait, the World T20 in 2023 was in Australia, and the Indian team was led by Rohit Sharma. But after that, there were some discussions about leadership. Then, in the ongoing Test series, Pant is leading. So perhaps the captaincy is divided. Let me check if there's a current captain for all formats or separate ones.\\n\\nAlternatively, maybe Rishabh Pant is the current captain across all formats following some changes. I might be mixing up the timeline here. Let me think again. In 2022, Rohit became captain. Then in 2023, there was a decision to rotate the captaincy, with Pant leading in Tests and maybe Rohit in ODIs and T20s. But I need to confirm.\\n\\nAlternatively, perhaps after the 2023 World Cup, Rohit Sharma stepped down from the ODI and T20 captaincy, leaving Pant as the Test captain, and someone else for the other formats. Wait, but who? Or maybe they made Pant the captain for all formats starting in 2023?\\n\\nAlternatively, maybe I'm overcomplicating. Perhaps the current captain is Rishabh Pant, taking over after Rohit stepped down. Let me see: In the 2023-24 season, the Indian team has been led by Rishabh Pant in Test matches. For ODI and T20I, is Rohit still captain? Or has he stepped down?\\n\\nHmm, I'm a bit confused. Let me try to structure this. \\n\\nVirat Kohli was captain until August 2023 when he stepped down from Tests. Then, Rohit Sharma became the captain for Tests, ODIs, and T20Is. However, after some time, there might have been a change. \\n\\nWait, looking at the 2023 ICC Men's T20 World Cup, which was held in Australia. The Indian team was led by Rohit Sharma, but they were eliminated early, which led to some criticism. After that, there were rumors that Rohit might step down from the ODI and T20 captaincy. \\n\\nThen, in late 2023, the BCCI appointed Rishabh Pant as the Test captain. In the Test series against England in 2023, Pant was leading. Meanwhile, for ODIs and T20Is, maybe Rohit continued until a certain point. However, as of the latest information, perhaps Rishabh Pant has been named the captain across all formats. \\n\\nAlternatively, maybe the captaincy is split: Pant leads Tests, and someone else leads ODIs. Wait, but who? \\n\\nAlternatively, since the BCCI has been experimenting with leadership roles, perhaps they appointed Pant as the captain across all formats, replacing Rohit Sharma. \\n\\nI think the key point is that as of 2023, Rishabh Pant has been appointed as the Test captain, and possibly the captain for all formats now. Let me see if there were any changes post-World Cup. \\n\\nAfter the 2023 World Cup, which ended in November 2023, there was some discussion about leadership changes. Reports indicated that Rohit Sharma stepped down from his roles as ODI and T20I captain to focus on his batting. So, after that, the BCCI might have appointed Rishabh Pant as the captain for all formats. \\n\\nTherefore, as of the current time (late 2023 or early 2024), Rishabh Pant is the captain of the Indian cricket team across all formats. \\n\\nAlternatively, there might be separate captains: Pant for Tests and maybe ODIs and T20Is. But I need to be precise. Let me think again: Virat resigned as Test captain, so Rohit took over Tests, ODIs, and T20s. Then, after the World Cup, Rohit stepped back from ODIs and T20Is, leaving Pant as Test captain, and perhaps someone else like KL Rahul or another player leading in other formats? Or maybe Pant is now the overall captain.\\n\\nWait, I think the latest news is that Rishabh Pant became the full-time captain across all formats in December 2023 after Rohit Sharma resigned from ODI and T20 captaincy. So Pant is now the captain for all three formats. \\n\\nSo, putting it all together, the current captain as of the latest update (around October 2024) should be Rishabh Pant.\\n</think>\\n\\nAs of the latest updates (October 2024), the **current captain of the Indian cricket team across all formats (Tests, ODIs, and T20Is)** is **Rishabh Pant**. \\n\\n### Key Timeline:\\n- **Until December 2023**: \\n  - **Rohit Sharma** was captain across all formats following Virat Kohli's resignation from Test captaincy in 2022. \\n  - After India's early exit in the 2023 T20 World Cup, Rohit Sharma stepped down from the white-ball captaincy (ODIs and T20Is) to focus on his batting. \\n- **December 2023**: \\n  - **Rishabh Pant** was appointed as the new captain for all formats, succeeding Rohit Sharma. \\n- **2024**: \\n  - Pant led India in the 2024 ICC Men's T20 World Cup, the Test series against England, and other matches.\\n\\n### Current Roles (as of 2024):\\n- **Test Captain**: Rishabh Pant\\n- **ODI Captain**: Rishabh Pant\\n- **T20I Captain**: Rishabh Pant\\n\\nPant is the first wicketkeeper-batsman to captain India in all three formats since MS Dhoni. His leadership has seen a mix of results, with emphasis on rebuilding the team's performance. For the most recent updates, verifying with the latest news sources is advisable, but as of now, **Rishabh Pant** is the recognized captain.\""
            ],
            "application/vnd.google.colaboratory.intrinsic+json": {
              "type": "string"
            }
          },
          "metadata": {},
          "execution_count": 91
        }
      ]
    },
    {
      "cell_type": "code",
      "source": [
        "tools = [arxiv, wikipedia, tavily]"
      ],
      "metadata": {
        "id": "qSfyHJIoJOHi"
      },
      "execution_count": 92,
      "outputs": []
    },
    {
      "cell_type": "code",
      "source": [
        "llm_with_tools = llm.bind_tools([arxiv, wikipedia, tavily])"
      ],
      "metadata": {
        "id": "ObTtA7Nl1MNm"
      },
      "execution_count": 93,
      "outputs": []
    },
    {
      "cell_type": "code",
      "source": [
        "result = llm_with_tools.invoke(\"who is the current captain of the Indian cricket team?\")"
      ],
      "metadata": {
        "id": "9NdBgyP72EYO"
      },
      "execution_count": 94,
      "outputs": []
    },
    {
      "cell_type": "code",
      "source": [
        "result"
      ],
      "metadata": {
        "colab": {
          "base_uri": "https://localhost:8080/"
        },
        "id": "yu7h6gjq2If8",
        "outputId": "a7b30dca-50b1-4045-b35c-ca9d7df69475"
      },
      "execution_count": 95,
      "outputs": [
        {
          "output_type": "execute_result",
          "data": {
            "text/plain": [
              "AIMessage(content='', additional_kwargs={'tool_calls': [{'id': 'call_3dyh', 'function': {'arguments': '{\"query\": \"current captain of the Indian cricket team\"}', 'name': 'tavily_search'}, 'type': 'function'}]}, response_metadata={'token_usage': {'completion_tokens': 331, 'prompt_tokens': 404, 'total_tokens': 735, 'completion_time': 0.827235885, 'prompt_time': 0.075932871, 'queue_time': 5.047169497, 'total_time': 0.903168756}, 'model_name': 'qwen-qwq-32b', 'system_fingerprint': 'fp_3796682456', 'finish_reason': 'tool_calls', 'logprobs': None}, id='run-88ef714c-1dcb-4a8d-9b76-c2328bd96c5a-0', tool_calls=[{'name': 'tavily_search', 'args': {'query': 'current captain of the Indian cricket team'}, 'id': 'call_3dyh', 'type': 'tool_call'}], usage_metadata={'input_tokens': 404, 'output_tokens': 331, 'total_tokens': 735})"
            ]
          },
          "metadata": {},
          "execution_count": 95
        }
      ]
    },
    {
      "cell_type": "code",
      "source": [
        "result.tool_calls"
      ],
      "metadata": {
        "colab": {
          "base_uri": "https://localhost:8080/"
        },
        "id": "vE-gaf8y2Orq",
        "outputId": "3e45af32-2bd0-484e-eb26-f48f9447d70f"
      },
      "execution_count": 96,
      "outputs": [
        {
          "output_type": "execute_result",
          "data": {
            "text/plain": [
              "[{'name': 'tavily_search',\n",
              "  'args': {'query': 'current captain of the Indian cricket team'},\n",
              "  'id': 'call_3dyh',\n",
              "  'type': 'tool_call'}]"
            ]
          },
          "metadata": {},
          "execution_count": 96
        }
      ]
    },
    {
      "cell_type": "code",
      "source": [
        "tavily.invoke(result.tool_calls[0]['args']['query'])[0]['content']"
      ],
      "metadata": {
        "colab": {
          "base_uri": "https://localhost:8080/",
          "height": 123
        },
        "id": "MjXawNQb2UYF",
        "outputId": "612e88d2-d0b4-4171-da12-20912bd0d21c"
      },
      "execution_count": 97,
      "outputs": [
        {
          "output_type": "execute_result",
          "data": {
            "text/plain": [
              "'Rohit Sharma is the current captain of Indian Cricket Team for test, One-Day International (ODI), and Twenty20 International cricket (T20) teams.\\n\\nIndian Cricket Test Match Captain\\n\\nRohit Sharma was named full-time captain of India in the red-ball format after Virat Kohli, India’s most successful Test captain, resigned in a surprise move following India’s test series loss to South Africa in January 2022. [...] Captains of the Indian Cricket Team: Complete List of All-Time Leaders\\n\\nRohit Sharma is the Indian cricket team captain (Men), whereas, Harmanpreet Kaur is the current Women’s Indian cricket team captain for all formats. Read on to learn more about the stats of the Captain of the Indian Cricket Team. Find the list of Indian Captains of one-day cricket teams, test matches, and T20 series, in this article.\\n\\nCaptain Of Indian Cricket Team: Men [...] Rohit Sharma is the current captain of the Indian men’s cricket team for the Test series, ODI, and T20I. For the women’s cricket team, Harmanpreet Kaur is the captain for ODI and T20 formats.\\n\\nWho is the youngest captain of the Indian cricket team in T20Is?\\n\\nSuresh Raina (23 years and 197 days old) is the youngest captain of the Indian cricket team in T20Is.\\n\\nWho have been the most successful Indian cricket captains?'"
            ],
            "application/vnd.google.colaboratory.intrinsic+json": {
              "type": "string"
            }
          },
          "metadata": {},
          "execution_count": 97
        }
      ]
    },
    {
      "cell_type": "code",
      "source": [
        "!pip install langgraph"
      ],
      "metadata": {
        "colab": {
          "base_uri": "https://localhost:8080/"
        },
        "id": "3TP7VWU3GFzf",
        "outputId": "3940e744-0747-45ae-9b74-b334714e01aa"
      },
      "execution_count": 98,
      "outputs": [
        {
          "output_type": "stream",
          "name": "stdout",
          "text": [
            "Requirement already satisfied: langgraph in /usr/local/lib/python3.11/dist-packages (0.3.34)\n",
            "Requirement already satisfied: langchain-core<0.4,>=0.1 in /usr/local/lib/python3.11/dist-packages (from langgraph) (0.3.55)\n",
            "Requirement already satisfied: langgraph-checkpoint<3.0.0,>=2.0.10 in /usr/local/lib/python3.11/dist-packages (from langgraph) (2.0.25)\n",
            "Requirement already satisfied: langgraph-prebuilt<0.2,>=0.1.8 in /usr/local/lib/python3.11/dist-packages (from langgraph) (0.1.8)\n",
            "Requirement already satisfied: langgraph-sdk<0.2.0,>=0.1.42 in /usr/local/lib/python3.11/dist-packages (from langgraph) (0.1.63)\n",
            "Requirement already satisfied: xxhash<4.0.0,>=3.5.0 in /usr/local/lib/python3.11/dist-packages (from langgraph) (3.5.0)\n",
            "Requirement already satisfied: langsmith<0.4,>=0.1.125 in /usr/local/lib/python3.11/dist-packages (from langchain-core<0.4,>=0.1->langgraph) (0.3.33)\n",
            "Requirement already satisfied: tenacity!=8.4.0,<10.0.0,>=8.1.0 in /usr/local/lib/python3.11/dist-packages (from langchain-core<0.4,>=0.1->langgraph) (9.1.2)\n",
            "Requirement already satisfied: jsonpatch<2.0,>=1.33 in /usr/local/lib/python3.11/dist-packages (from langchain-core<0.4,>=0.1->langgraph) (1.33)\n",
            "Requirement already satisfied: PyYAML>=5.3 in /usr/local/lib/python3.11/dist-packages (from langchain-core<0.4,>=0.1->langgraph) (6.0.2)\n",
            "Requirement already satisfied: packaging<25,>=23.2 in /usr/local/lib/python3.11/dist-packages (from langchain-core<0.4,>=0.1->langgraph) (24.2)\n",
            "Requirement already satisfied: typing-extensions>=4.7 in /usr/local/lib/python3.11/dist-packages (from langchain-core<0.4,>=0.1->langgraph) (4.13.2)\n",
            "Requirement already satisfied: pydantic<3.0.0,>=2.5.2 in /usr/local/lib/python3.11/dist-packages (from langchain-core<0.4,>=0.1->langgraph) (2.11.3)\n",
            "Requirement already satisfied: ormsgpack<2.0.0,>=1.8.0 in /usr/local/lib/python3.11/dist-packages (from langgraph-checkpoint<3.0.0,>=2.0.10->langgraph) (1.9.1)\n",
            "Requirement already satisfied: httpx>=0.25.2 in /usr/local/lib/python3.11/dist-packages (from langgraph-sdk<0.2.0,>=0.1.42->langgraph) (0.28.1)\n",
            "Requirement already satisfied: orjson>=3.10.1 in /usr/local/lib/python3.11/dist-packages (from langgraph-sdk<0.2.0,>=0.1.42->langgraph) (3.10.16)\n",
            "Requirement already satisfied: anyio in /usr/local/lib/python3.11/dist-packages (from httpx>=0.25.2->langgraph-sdk<0.2.0,>=0.1.42->langgraph) (4.9.0)\n",
            "Requirement already satisfied: certifi in /usr/local/lib/python3.11/dist-packages (from httpx>=0.25.2->langgraph-sdk<0.2.0,>=0.1.42->langgraph) (2025.1.31)\n",
            "Requirement already satisfied: httpcore==1.* in /usr/local/lib/python3.11/dist-packages (from httpx>=0.25.2->langgraph-sdk<0.2.0,>=0.1.42->langgraph) (1.0.8)\n",
            "Requirement already satisfied: idna in /usr/local/lib/python3.11/dist-packages (from httpx>=0.25.2->langgraph-sdk<0.2.0,>=0.1.42->langgraph) (3.10)\n",
            "Requirement already satisfied: h11<0.15,>=0.13 in /usr/local/lib/python3.11/dist-packages (from httpcore==1.*->httpx>=0.25.2->langgraph-sdk<0.2.0,>=0.1.42->langgraph) (0.14.0)\n",
            "Requirement already satisfied: jsonpointer>=1.9 in /usr/local/lib/python3.11/dist-packages (from jsonpatch<2.0,>=1.33->langchain-core<0.4,>=0.1->langgraph) (3.0.0)\n",
            "Requirement already satisfied: requests<3,>=2 in /usr/local/lib/python3.11/dist-packages (from langsmith<0.4,>=0.1.125->langchain-core<0.4,>=0.1->langgraph) (2.32.3)\n",
            "Requirement already satisfied: requests-toolbelt<2.0.0,>=1.0.0 in /usr/local/lib/python3.11/dist-packages (from langsmith<0.4,>=0.1.125->langchain-core<0.4,>=0.1->langgraph) (1.0.0)\n",
            "Requirement already satisfied: zstandard<0.24.0,>=0.23.0 in /usr/local/lib/python3.11/dist-packages (from langsmith<0.4,>=0.1.125->langchain-core<0.4,>=0.1->langgraph) (0.23.0)\n",
            "Requirement already satisfied: annotated-types>=0.6.0 in /usr/local/lib/python3.11/dist-packages (from pydantic<3.0.0,>=2.5.2->langchain-core<0.4,>=0.1->langgraph) (0.7.0)\n",
            "Requirement already satisfied: pydantic-core==2.33.1 in /usr/local/lib/python3.11/dist-packages (from pydantic<3.0.0,>=2.5.2->langchain-core<0.4,>=0.1->langgraph) (2.33.1)\n",
            "Requirement already satisfied: typing-inspection>=0.4.0 in /usr/local/lib/python3.11/dist-packages (from pydantic<3.0.0,>=2.5.2->langchain-core<0.4,>=0.1->langgraph) (0.4.0)\n",
            "Requirement already satisfied: charset-normalizer<4,>=2 in /usr/local/lib/python3.11/dist-packages (from requests<3,>=2->langsmith<0.4,>=0.1.125->langchain-core<0.4,>=0.1->langgraph) (3.4.1)\n",
            "Requirement already satisfied: urllib3<3,>=1.21.1 in /usr/local/lib/python3.11/dist-packages (from requests<3,>=2->langsmith<0.4,>=0.1.125->langchain-core<0.4,>=0.1->langgraph) (2.3.0)\n",
            "Requirement already satisfied: sniffio>=1.1 in /usr/local/lib/python3.11/dist-packages (from anyio->httpx>=0.25.2->langgraph-sdk<0.2.0,>=0.1.42->langgraph) (1.3.1)\n"
          ]
        }
      ]
    },
    {
      "cell_type": "code",
      "source": [
        "from typing import Annotated\n",
        "from typing_extensions import TypedDict\n",
        "from langgraph.graph.message import add_messages\n",
        "from langgraph.graph import StateGraph"
      ],
      "metadata": {
        "id": "r1r1qYdh2aQd"
      },
      "execution_count": 99,
      "outputs": []
    },
    {
      "cell_type": "code",
      "source": [
        "class State(TypedDict):\n",
        "  messages : Annotated[list, add_messages]\n",
        "\n",
        "graph_builder = StateGraph(State)"
      ],
      "metadata": {
        "id": "jbcSnHOhF68e"
      },
      "execution_count": 100,
      "outputs": []
    },
    {
      "cell_type": "code",
      "source": [
        "class LLMNode:\n",
        "  def __init__(self, llm):\n",
        "    self.llm = llm\n",
        "\n",
        "  def __call__(self, state:State):\n",
        "    return {'messages' : [self.llm.invoke(state['messages'])]}\n",
        "\n",
        "tool_llm = LLMNode(llm_with_tools)"
      ],
      "metadata": {
        "id": "N8sDRAJPHNvE"
      },
      "execution_count": 101,
      "outputs": []
    },
    {
      "cell_type": "code",
      "source": [
        "from langgraph.graph import START\n",
        "from langgraph.prebuilt import ToolNode, tools_condition"
      ],
      "metadata": {
        "id": "sIjLgYNVImME"
      },
      "execution_count": 102,
      "outputs": []
    },
    {
      "cell_type": "code",
      "source": [
        "tool_node = ToolNode(tools)"
      ],
      "metadata": {
        "id": "BHVOBD3oIvTz"
      },
      "execution_count": 103,
      "outputs": []
    },
    {
      "cell_type": "code",
      "source": [
        "graph_builder.add_node(\"llm\", tool_llm)\n",
        "graph_builder.add_node(\"tools\", tool_node)"
      ],
      "metadata": {
        "colab": {
          "base_uri": "https://localhost:8080/"
        },
        "id": "MWiQcQeJJSZM",
        "outputId": "09b7e6af-1e06-4779-f8d3-fff4369d25ba"
      },
      "execution_count": 104,
      "outputs": [
        {
          "output_type": "execute_result",
          "data": {
            "text/plain": [
              "<langgraph.graph.state.StateGraph at 0x78c8612b0950>"
            ]
          },
          "metadata": {},
          "execution_count": 104
        }
      ]
    },
    {
      "cell_type": "code",
      "source": [
        "graph_builder.add_edge(START, \"llm\")\n",
        "graph_builder.add_conditional_edges(\"llm\", tools_condition)\n",
        "graph_builder.add_edge(\"tools\", \"llm\")"
      ],
      "metadata": {
        "colab": {
          "base_uri": "https://localhost:8080/"
        },
        "id": "ZlUNx_4vJoqt",
        "outputId": "19f3afd3-cd06-4793-d1e2-6933421e86a4"
      },
      "execution_count": 105,
      "outputs": [
        {
          "output_type": "execute_result",
          "data": {
            "text/plain": [
              "<langgraph.graph.state.StateGraph at 0x78c8612b0950>"
            ]
          },
          "metadata": {},
          "execution_count": 105
        }
      ]
    },
    {
      "cell_type": "code",
      "source": [
        "agent = graph_builder.compile()"
      ],
      "metadata": {
        "id": "B_36li06Kd-x"
      },
      "execution_count": 106,
      "outputs": []
    },
    {
      "cell_type": "code",
      "source": [
        "from IPython.display import display, Image\n",
        "display(Image(agent.get_graph().draw_mermaid_png()))"
      ],
      "metadata": {
        "colab": {
          "base_uri": "https://localhost:8080/",
          "height": 266
        },
        "id": "BaaRC6S_KRtq",
        "outputId": "97b47744-cf87-4b12-a4e4-ef0563889ed2"
      },
      "execution_count": 107,
      "outputs": [
        {
          "output_type": "display_data",
          "data": {
            "image/png": "[encoded data removed]",
            "text/plain": [
              "<IPython.core.display.Image object>"
            ]
          },
          "metadata": {}
        }
      ]
    },
    {
      "cell_type": "code",
      "source": [
        "from langchain_core.messages import HumanMessage"
      ],
      "metadata": {
        "id": "Xkv4xvk0L0Vp"
      },
      "execution_count": 112,
      "outputs": []
    },
    {
      "cell_type": "code",
      "source": [
        "answer = agent.invoke({'messages' : HumanMessage(content = 'who is the current cricket captain of the India?')})"
      ],
      "metadata": {
        "id": "7h0Mg2i3LgBx"
      },
      "execution_count": 116,
      "outputs": []
    },
    {
      "cell_type": "code",
      "source": [
        "answer['messages'][-1].content"
      ],
      "metadata": {
        "colab": {
          "base_uri": "https://localhost:8080/",
          "height": 70
        },
        "id": "dm0fgZJkLpDI",
        "outputId": "64abbccb-2cbd-47bc-f08b-c53b5b9c276a"
      },
      "execution_count": 122,
      "outputs": [
        {
          "output_type": "execute_result",
          "data": {
            "text/plain": [
              "'The current captains of the India cricket team are:\\n\\n- **Rohit Sharma**:** Captain for Test matches and ODI (One Day International) cricket.\\n- **Suryakumar Yadav:** Captain for T20I (Twenty20 International) cricket.\\n\\nThis split was implemented after Rohit Sharma retired from T20I captaincy in 2023, with Suryakumar taking over the T20I role. As of the latest updates, Rohit continues to lead in red-ball formats (Tests and ODIs), while Suryakumar leads the T20I team.'"
            ],
            "application/vnd.google.colaboratory.intrinsic+json": {
              "type": "string"
            }
          },
          "metadata": {},
          "execution_count": 122
        }
      ]
    },
    {
      "cell_type": "code",
      "source": [],
      "metadata": {
        "id": "YAUi98DhMr8p"
      },
      "execution_count": null,
      "outputs": []
    }
  ]
}